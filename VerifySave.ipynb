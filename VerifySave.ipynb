{
 "cells": [
  {
   "cell_type": "code",
   "execution_count": 1,
   "id": "1a57b180-401d-4246-b263-ede0f04342d2",
   "metadata": {},
   "outputs": [
    {
     "name": "stdout",
     "output_type": "stream",
     "text": [
      "Requirement already satisfied: onnxruntime in /usr/local/lib/python3.11/dist-packages (1.22.1)\n",
      "Requirement already satisfied: coloredlogs in /usr/local/lib/python3.11/dist-packages (from onnxruntime) (15.0.1)\n",
      "Requirement already satisfied: flatbuffers in /usr/local/lib/python3.11/dist-packages (from onnxruntime) (25.2.10)\n",
      "Requirement already satisfied: numpy>=1.21.6 in /usr/local/lib/python3.11/dist-packages (from onnxruntime) (2.2.6)\n",
      "Requirement already satisfied: packaging in /usr/local/lib/python3.11/dist-packages (from onnxruntime) (25.0)\n",
      "Requirement already satisfied: protobuf in /usr/local/lib/python3.11/dist-packages (from onnxruntime) (6.32.0)\n",
      "Requirement already satisfied: sympy in /usr/local/lib/python3.11/dist-packages (from onnxruntime) (1.13.3)\n",
      "Requirement already satisfied: humanfriendly>=9.1 in /usr/local/lib/python3.11/dist-packages (from coloredlogs->onnxruntime) (10.0)\n",
      "Requirement already satisfied: mpmath<1.4,>=1.1.0 in /usr/local/lib/python3.11/dist-packages (from sympy->onnxruntime) (1.3.0)\n",
      "\u001b[33mWARNING: Running pip as the 'root' user can result in broken permissions and conflicting behaviour with the system package manager, possibly rendering your system unusable. It is recommended to use a virtual environment instead: https://pip.pypa.io/warnings/venv. Use the --root-user-action option if you know what you are doing and want to suppress this warning.\u001b[0m\u001b[33m\n",
      "\u001b[0mRequirement already satisfied: jaxwt in /usr/local/lib/python3.11/dist-packages (0.1.1)\n",
      "Requirement already satisfied: PyWavelets in /usr/local/lib/python3.11/dist-packages (from jaxwt) (1.9.0)\n",
      "Requirement already satisfied: jax in /usr/local/lib/python3.11/dist-packages (from jaxwt) (0.7.1)\n",
      "Requirement already satisfied: jaxlib in /usr/local/lib/python3.11/dist-packages (from jaxwt) (0.7.1)\n",
      "Requirement already satisfied: numpy in /usr/local/lib/python3.11/dist-packages (from jaxwt) (2.2.6)\n",
      "Requirement already satisfied: ml_dtypes>=0.5.0 in /usr/local/lib/python3.11/dist-packages (from jax->jaxwt) (0.5.3)\n",
      "Requirement already satisfied: opt_einsum in /usr/local/lib/python3.11/dist-packages (from jax->jaxwt) (3.4.0)\n",
      "Requirement already satisfied: scipy>=1.12 in /usr/local/lib/python3.11/dist-packages (from jax->jaxwt) (1.16.1)\n",
      "\u001b[33mWARNING: Running pip as the 'root' user can result in broken permissions and conflicting behaviour with the system package manager, possibly rendering your system unusable. It is recommended to use a virtual environment instead: https://pip.pypa.io/warnings/venv. Use the --root-user-action option if you know what you are doing and want to suppress this warning.\u001b[0m\u001b[33m\n",
      "\u001b[0m"
     ]
    }
   ],
   "source": [
    "!pip install onnxruntime\n",
    "!pip install jaxwt"
   ]
  },
  {
   "cell_type": "code",
   "execution_count": 2,
   "id": "a2701ac2-55a1-4c53-80a0-5efc33b67e07",
   "metadata": {},
   "outputs": [],
   "source": [
    "from models.jax_vae import VAE\n",
    "from dataset.load_tfrecords import SimpleDataloader\n",
    "import jaxwt as jwt\n",
    "import jax.numpy as jnp\n",
    "import jax.random as random\n",
    "import onnxruntime as ort\n",
    "import numpy as np\n",
    "import orbax\n",
    "from flax.training import orbax_utils\n",
    "import os"
   ]
  },
  {
   "cell_type": "code",
   "execution_count": 8,
   "id": "90a3e8cc-0342-4190-b8c8-c7c3b040d636",
   "metadata": {
    "scrolled": true
   },
   "outputs": [
    {
     "name": "stdout",
     "output_type": "stream",
     "text": [
      "Found 32 TFRecord files\n",
      "(1, 128, 128, 4)\n",
      "Model input info:\n",
      "  input: [1, 1, 256, 256]\n",
      "(1, 1, 256, 256)\n",
      "(128, 128, 4)\n",
      "(4, 128, 128)\n",
      "(128, 128, 4)\n",
      "(4, 128, 128)\n"
     ]
    }
   ],
   "source": [
    "dataset_path = '/code/tfrecords'\n",
    "dataloader = SimpleDataloader(tfrecord_pattern=os.path.join(dataset_path, \"*.tfrecord\"), batch_size=16)\n",
    "jax_ds = dataloader.get_jax_iterator(shuffle=True)\n",
    "\n",
    "imgs = next(jax_ds)['features']\n",
    "single_img = imgs[0, ...][jnp.newaxis]\n",
    "transformed = jwt.wavedec2(imgs, \"haar\", level=1, mode=\"reflect\", axes=(1,2))\n",
    "waves = jnp.concatenate([transformed[0], transformed[1][1], transformed[1][0], transformed[1][2]], axis=-1)\n",
    "\n",
    "single_example = waves[0, ...][jnp.newaxis]\n",
    "print(single_example.shape)\n",
    "\n",
    "vae = VAE(base_features=32, latent_dim=128)\n",
    "orbax_checkpointer = orbax.checkpoint.PyTreeCheckpointer()\n",
    "raw_restored = orbax_checkpointer.restore('/code/checkpoints/vae')\n",
    "\n",
    "@jax.jit\n",
    "def run_inference(sample):\n",
    "    (x_recon, x_waves, mu, log_var) = vae.apply(\n",
    "        {'params': raw_restored['model']},\n",
    "        sample,\n",
    "        training=False,\n",
    "        key=random.key(0)\n",
    "    )\n",
    "    return x_recon, x_waves\n",
    "\n",
    "# # Load model\n",
    "session = ort.InferenceSession(\"/code/models/vae.onnx\")\n",
    "print(\"Model input info:\")\n",
    "for inp in session.get_inputs():\n",
    "    print(f\"  {inp.name}: {inp.shape}\")\n",
    "# # Run inference\n",
    "inp = np.array(single_img.transpose(0, 3, 1, 2))\n",
    "print(inp.shape)\n",
    "output_onnx = session.run(None, {\"input\": inp})[1][0, ...]\n",
    "output_jax = np.array(run_inference(single_example)[1])[0, ...]\n",
    "print(output_jax.shape)\n",
    "print(output_onnx.shape)\n",
    "\n",
    "np.testing.assert_almost_equal(output_jax, output_onnx.transpose(1, 2, 0), decimal=2)\n",
    "\n",
    "output_onnx = session.run(None, {\"input\": inp})[2][0, ...]\n",
    "output_jax = np.array(waves)[0, ...]\n",
    "print(output_jax.shape)\n",
    "print(output_onnx.shape)\n",
    "\n",
    "np.testing.assert_almost_equal(output_jax, output_onnx.transpose(1, 2, 0), decimal=2)\n"
   ]
  },
  {
   "cell_type": "code",
   "execution_count": null,
   "id": "a0509f72-fba3-401a-bec2-b7ea64ff123b",
   "metadata": {},
   "outputs": [],
   "source": []
  }
 ],
 "metadata": {
  "kernelspec": {
   "display_name": "Python 3 (ipykernel)",
   "language": "python",
   "name": "python3"
  },
  "language_info": {
   "codemirror_mode": {
    "name": "ipython",
    "version": 3
   },
   "file_extension": ".py",
   "mimetype": "text/x-python",
   "name": "python",
   "nbconvert_exporter": "python",
   "pygments_lexer": "ipython3",
   "version": "3.11.13"
  }
 },
 "nbformat": 4,
 "nbformat_minor": 5
}
